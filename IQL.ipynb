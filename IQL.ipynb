{
 "cells": [
  {
   "cell_type": "markdown",
   "id": "2c4da5d4",
   "metadata": {},
   "source": [
    "# **Independent Q-learning**"
   ]
  },
  {
   "cell_type": "code",
   "execution_count": null,
   "id": "469c5a42-8319-4d41-9769-431a4286bc3f",
   "metadata": {},
   "outputs": [],
   "source": [
    "#!pip install gymnasium numpy matplotlib tqdm dill sys"
   ]
  },
  {
   "cell_type": "markdown",
   "id": "a23f5ca2-16b8-4493-8ceb-e9d092c0a4b2",
   "metadata": {},
   "source": [
    "<img src=\"marl4.png\">"
   ]
  },
  {
   "cell_type": "code",
   "execution_count": 10,
   "id": "3edffb75",
   "metadata": {},
   "outputs": [],
   "source": [
    "import gymnasium as gym\n",
    "from gymnasium import spaces\n",
    "import numpy as np\n",
    "import matplotlib.pyplot as plt\n",
    "\n",
    "from tqdm import tqdm\n",
    "import dill\n",
    "import sys"
   ]
  },
  {
   "cell_type": "code",
   "execution_count": 11,
   "id": "5a254702",
   "metadata": {},
   "outputs": [],
   "source": [
    "# Import the environment and plotting functions\n",
    "sys.path.insert(0,'./env')\n",
    "sys.path.insert(0,'./utils')\n",
    "from env.food_collector import Food_Collector_Env\n",
    "from utils.plot_results import plot_scores_epsilon"
   ]
  },
  {
   "cell_type": "markdown",
   "id": "ac2ddaf3",
   "metadata": {},
   "source": [
    "## Define QL agent"
   ]
  },
  {
   "cell_type": "code",
   "execution_count": 12,
   "id": "36a89e45",
   "metadata": {},
   "outputs": [],
   "source": [
    "class QLearningAgent():\n",
    "\n",
    "    def __init__(self, num_actions, num_states, eps_start=1.0, eps_decay=.9999, eps_min=1e-08, step_size=0.1, gamma=1):\n",
    "        # Initialise agent\n",
    "        self.num_actions = num_actions\n",
    "        self.num_states = num_states\n",
    "        self.epsilon = eps_start\n",
    "        self.eps_decay = eps_decay\n",
    "        self.eps_min = eps_min\n",
    "        self.step_size = step_size\n",
    "        self.gamma = gamma\n",
    "        self.rand_generator = np.random.RandomState(1)\n",
    "        \n",
    "        # Create an array for action-value estimates and initialize it to zero.\n",
    "        self.state_dict = {}\n",
    "        self.q = np.zeros((self.num_states, self.num_actions)) # The array of action-value estimates.\n",
    "\n",
    "        \n",
    "    def agent_start(self, state):\n",
    "\n",
    "        #Update epsilon at the start of each episode\n",
    "        self.epsilon = max(self.epsilon * self.eps_decay, self.eps_min)\n",
    "\n",
    "        #Add state to dict if new + get index of state\n",
    "        if state not in self.state_dict.keys():\n",
    "            self.state_dict[state] = len(self.state_dict)\n",
    "        state_idx = self.state_dict[state]\n",
    "\n",
    "        # Choose action using epsilon greedy.\n",
    "        current_q = self.q[state_idx,:]\n",
    "        if self.rand_generator.rand() < self.epsilon:\n",
    "            action = self.rand_generator.randint(self.num_actions) # random action selection\n",
    "        else:\n",
    "            action = self.argmax(current_q) # greedy action selection\n",
    "\n",
    "        self.prev_state_idx = self.state_dict[state]\n",
    "        self.prev_action = action\n",
    "        return action\n",
    "    \n",
    "    def agent_step(self, reward, state):\n",
    "\n",
    "        #Add state to dict if new + get index of state\n",
    "        if state not in self.state_dict.keys():\n",
    "            self.state_dict[state] = len(self.state_dict)\n",
    "        state_idx = self.state_dict[state]\n",
    "\n",
    "        # Choose action using epsilon greedy.\n",
    "        current_q = self.q[state_idx, :]\n",
    "        if self.rand_generator.rand() < self.epsilon:\n",
    "            action = self.rand_generator.randint(self.num_actions)\n",
    "        else:\n",
    "            action = self.argmax(current_q)\n",
    "        \n",
    "        # Update q values\n",
    "        self.q[self.prev_state_idx][self.prev_action] = (1-self.step_size) * self.q[self.prev_state_idx][self.prev_action] + \\\n",
    "                                                     self.step_size * (reward + self.gamma * self.q[state_idx][self.argmax(current_q)])\n",
    "        \n",
    "        self.prev_state_idx = self.state_dict[state]\n",
    "        self.prev_action = action\n",
    "        return action\n",
    "    \n",
    "    def agent_end(self, state, reward):\n",
    "        #Add state to dict if new + get index\n",
    "        if state not in self.state_dict.keys():\n",
    "            self.state_dict[state] = len(self.state_dict)\n",
    "        state_idx = self.state_dict[state]\n",
    "        \n",
    "        # Perform the last q value update\n",
    "        self.q[self.prev_state_idx][self.prev_action] = (1-self.step_size) * self.q[self.prev_state_idx][self.prev_action] + \\\n",
    "                                                    self.step_size * reward\n",
    "\n",
    "    # Takes step in testing environment, epsilon=0 and no updates made\n",
    "    def test_step(self, state):\n",
    "        \n",
    "        #Add state to dict if new + get index of state\n",
    "        if state not in self.state_dict.keys():\n",
    "            self.state_dict[state] = len(self.state_dict)\n",
    "        state_idx = self.state_dict[state]\n",
    "\n",
    "        # Pick greedy action\n",
    "        current_q = self.q[state_idx, :]\n",
    "        action = self.argmax(current_q)\n",
    "\n",
    "        return action\n",
    "\n",
    "        \n",
    "    def argmax(self, q_values):\n",
    "        top = float(\"-inf\")\n",
    "        ties = []\n",
    "\n",
    "        for i in range(len(q_values)):\n",
    "            if q_values[i] > top:\n",
    "                top = q_values[i]\n",
    "                ties = []\n",
    "\n",
    "            if q_values[i] == top:\n",
    "                ties.append(i)\n",
    "\n",
    "        return self.rand_generator.choice(ties)"
   ]
  },
  {
   "cell_type": "markdown",
   "id": "93666fc7",
   "metadata": {},
   "source": [
    "## Train independent agents"
   ]
  },
  {
   "cell_type": "code",
   "execution_count": 13,
   "id": "ee70a7ae",
   "metadata": {},
   "outputs": [],
   "source": [
    "def train_QL_agents(n_agents, num_episodes, max_steps_done, eps_decay, eps_min, step_size, gamma):\n",
    "\n",
    "    # initiate environment\n",
    "    env = Food_Collector_Env(grid_size=[11,11], n_agents=2)\n",
    "\n",
    "    # get numer of states and actions from environment\n",
    "    n_states = 3000000\n",
    "    n_actions = env.action_space[0].n\n",
    "    \n",
    "    # Initialise agents\n",
    "    agents = []\n",
    "    for _ in range(n_agents):\n",
    "        QL_agent = QLearningAgent(num_actions=n_actions, num_states=n_states,\n",
    "                      eps_start = 1.0, eps_decay=eps_decay, eps_min=eps_min,\n",
    "                      step_size=step_size, gamma=gamma)\n",
    "        agents.append(QL_agent)\n",
    "\n",
    "    # Monitor the scores and epsilon for each episode\n",
    "    episode_rewards = [ [] for _ in range(n_agents)]\n",
    "    epsilon_history = list()\n",
    "    won_games = 0\n",
    "    \n",
    "    # for episode in num_episodes\n",
    "    for episode in tqdm(range(num_episodes)):\n",
    "        \n",
    "        rewards_temp = [ [] for _ in range(n_agents)]\n",
    "        \n",
    "        # get initial state and actions\n",
    "        states = env.reset()\n",
    "        for i in range(len(agents)):\n",
    "            action = agents[i].agent_start(states[i])\n",
    "        \n",
    "        rewards = [0 for _ in range(n_agents)]\n",
    "        steps = 0\n",
    "        \n",
    "        while True:\n",
    "            steps += 1\n",
    "            actions = []\n",
    "            for i in range(n_agents):\n",
    "                action = agents[i].agent_step(rewards[i], states[i])\n",
    "                actions.append(action)\n",
    "            \n",
    "            next_states, rewards, done, info = env.step(actions)\n",
    "            \n",
    "            for i in range(n_agents):\n",
    "                rewards_temp[i].append(rewards[i])\n",
    "            \n",
    "            if done[0]:\n",
    "                won_games+=1\n",
    "                for i in range(n_agents):\n",
    "                    agents[i].agent_end(states[i], rewards[i]) #update q values last time\n",
    "                \n",
    "                if episode%1000==0:\n",
    "                    for i in range(n_agents):\n",
    "                        episode_rewards[i].append(sum(rewards_temp[i]))\n",
    "                epsilon_history.append(agents[0].epsilon)\n",
    "                break\n",
    "            \n",
    "            if steps >= max_steps_done:\n",
    "                if episode%1000==0:\n",
    "                    for i in range(n_agents):\n",
    "                        episode_rewards[i].append(sum(rewards_temp[i]))\n",
    "                epsilon_history.append(agents[0].epsilon)\n",
    "                break\n",
    "                \n",
    "            states = next_states\n",
    "    print(f'Games won: {won_games}, in percentage: {(100*won_games/num_episodes):.2f}')\n",
    "    return agents, episode_rewards, epsilon_history"
   ]
  },
  {
   "cell_type": "code",
   "execution_count": 14,
   "id": "b2107b09",
   "metadata": {},
   "outputs": [],
   "source": [
    "# HYPERPARAMETERS\n",
    "N_AGENTS = 2\n",
    "NUM_EPISODES = 600000\n",
    "EPS_DECAY = 0.9999\n",
    "EPS_MIN = 0.3\n",
    "STEP_SIZE = 0.1\n",
    "GAMMA = 0.99\n",
    "MAX_STEPS_DONE = 70"
   ]
  },
  {
   "cell_type": "code",
   "execution_count": 15,
   "id": "e3f13c7b",
   "metadata": {},
   "outputs": [
    {
     "name": "stderr",
     "output_type": "stream",
     "text": [
      "100%|██████████| 600000/600000 [25:41<00:00, 389.14it/s]"
     ]
    },
    {
     "name": "stdout",
     "output_type": "stream",
     "text": [
      "Games won: 501698, in percentage: 83.62\n"
     ]
    },
    {
     "name": "stderr",
     "output_type": "stream",
     "text": [
      "\n"
     ]
    }
   ],
   "source": [
    "agents, reward_history, epsilon_history = train_QL_agents(N_AGENTS, NUM_EPISODES, MAX_STEPS_DONE, EPS_DECAY,\n",
    "                                                          EPS_MIN, STEP_SIZE, GAMMA)"
   ]
  },
  {
   "cell_type": "code",
   "execution_count": 26,
   "id": "d5b972d7",
   "metadata": {},
   "outputs": [
    {
     "data": {
      "image/png": "[encoded data removed]",
      "text/plain": [
       "<Figure size 1000x300 with 2 Axes>"
      ]
     },
     "metadata": {},
     "output_type": "display_data"
    }
   ],
   "source": [
    "%matplotlib inline\n",
    "plot_scores_epsilon(reward_history, epsilon_history, moving_avg_window = 50)"
   ]
  },
  {
   "cell_type": "markdown",
   "id": "fcfdf755",
   "metadata": {},
   "source": [
    "## Visualise agent behaviour"
   ]
  },
  {
   "cell_type": "code",
   "execution_count": 27,
   "id": "66568bb5",
   "metadata": {},
   "outputs": [],
   "source": [
    "def visualise_Qlearn_agents(agents, n_episodes):\n",
    "    \n",
    "    n_agents = len(agents)\n",
    "    env = Food_Collector_Env(grid_size=[11,11], n_agents=n_agents)\n",
    "\n",
    "    # run n_episodes episodes\n",
    "    for _ in tqdm(range(n_episodes)):\n",
    "        # get initial state and actions\n",
    "        states = env.reset()\n",
    "        for i in range(n_agents):\n",
    "            action = agents[i].agent_start(states[i])\n",
    "        rewards = [0 for _ in range(n_agents)]\n",
    "        step_counter = 0\n",
    "        \n",
    "        while True:\n",
    "            step_counter += 1\n",
    "            actions = []\n",
    "            for i in range(n_agents):\n",
    "                #action = agents[i].agent_step(rewards[i], states[i])\n",
    "                action = agents[i].test_step(states[i])\n",
    "                actions.append(action)\n",
    "            next_states, rewards, done, info = env.step(actions)\n",
    "            states = next_states\n",
    "                \n",
    "            env.render(frame_speed=0.01)    \n",
    "            \n",
    "            if done[0]:\n",
    "                break\n",
    "            if step_counter >= 7:\n",
    "                break"
   ]
  },
  {
   "cell_type": "code",
   "execution_count": 32,
   "id": "3c7d3f14",
   "metadata": {},
   "outputs": [
    {
     "name": "stderr",
     "output_type": "stream",
     "text": [
      "  0%|          | 0/1 [00:00<?, ?it/s]"
     ]
    },
    {
     "data": {
      "image/png": "[encoded data removed]",
      "text/plain": [
       "<Figure size 500x500 with 1 Axes>"
      ]
     },
     "metadata": {},
     "output_type": "display_data"
    },
    {
     "name": "stderr",
     "output_type": "stream",
     "text": [
      "100%|██████████| 1/1 [00:00<00:00,  3.40it/s]\n"
     ]
    }
   ],
   "source": [
    "visualise_Qlearn_agents(agents2, 1)"
   ]
  },
  {
   "cell_type": "markdown",
   "id": "dfbef08e",
   "metadata": {},
   "source": [
    "## Save agents"
   ]
  },
  {
   "cell_type": "code",
   "execution_count": 33,
   "id": "c5552964",
   "metadata": {},
   "outputs": [],
   "source": [
    "import dill\n",
    "\n",
    "# Save the file\n",
    "dill.dump(agents[0], file = open(\"trained_agents/QLagent1.pickle\", \"wb\"))\n",
    "dill.dump(agents[1], file = open(\"trained_agents/QLagent2.pickle\", \"wb\"))"
   ]
  },
  {
   "cell_type": "code",
   "execution_count": 34,
   "id": "cf6fc2ce",
   "metadata": {},
   "outputs": [],
   "source": [
    "a1 = dill.load(open(\"trained_agents/QLagent1.pickle\", \"rb\"))\n",
    "a2 = dill.load(open(\"trained_agents/QLagent2.pickle\", \"rb\"))\n",
    "\n",
    "agents2 = [a1,a2]"
   ]
  },
  {
   "cell_type": "code",
   "execution_count": null,
   "id": "37f9b7da-bfea-4421-810c-7b297076bb72",
   "metadata": {},
   "outputs": [],
   "source": []
  }
 ],
 "metadata": {
  "kernelspec": {
   "display_name": "Python 3 (ipykernel)",
   "language": "python",
   "name": "python3"
  },
  "language_info": {
   "codemirror_mode": {
    "name": "ipython",
    "version": 3
   },
   "file_extension": ".py",
   "mimetype": "text/x-python",
   "name": "python",
   "nbconvert_exporter": "python",
   "pygments_lexer": "ipython3",
   "version": "3.11.13"
  }
 },
 "nbformat": 4,
 "nbformat_minor": 5
}
